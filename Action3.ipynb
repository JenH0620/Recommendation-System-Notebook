{
 "cells": [
  {
   "cell_type": "code",
   "execution_count": 2,
   "metadata": {},
   "outputs": [
    {
     "name": "stdout",
     "output_type": "stream",
     "text": [
      "Collecting jieba\n",
      "  Using cached jieba-0.42.1.tar.gz (19.2 MB)\n",
      "Building wheels for collected packages: jieba\n",
      "  Building wheel for jieba (setup.py) ... \u001b[?25ldone\n",
      "\u001b[?25h  Created wheel for jieba: filename=jieba-0.42.1-py3-none-any.whl size=19314477 sha256=109139fec9f7fee33dbd71e77e123e24f564cc9026bdbef537d56669b17bb0c3\n",
      "  Stored in directory: /Users/huangzhan/Library/Caches/pip/wheels/24/aa/17/5bc7c72e9a37990a9620cc3aad0acad1564dcff6dbc2359de3\n",
      "Successfully built jieba\n",
      "Installing collected packages: jieba\n",
      "Successfully installed jieba-0.42.1\n",
      "Note: you may need to restart the kernel to use updated packages.\n"
     ]
    }
   ],
   "source": [
    "pip install jieba"
   ]
  },
  {
   "cell_type": "code",
   "execution_count": 1,
   "metadata": {},
   "outputs": [
    {
     "ename": "SyntaxError",
     "evalue": "invalid syntax (<ipython-input-1-5ea9390448bf>, line 1)",
     "output_type": "error",
     "traceback": [
      "\u001b[0;36m  File \u001b[0;32m\"<ipython-input-1-5ea9390448bf>\"\u001b[0;36m, line \u001b[0;32m1\u001b[0m\n\u001b[0;31m    install files_processing\u001b[0m\n\u001b[0m                           ^\u001b[0m\n\u001b[0;31mSyntaxError\u001b[0m\u001b[0;31m:\u001b[0m invalid syntax\n"
     ]
    }
   ],
   "source": [
    "install files_processing"
   ]
  },
  {
   "cell_type": "code",
   "execution_count": 4,
   "metadata": {},
   "outputs": [],
   "source": [
    "# -*-coding: utf-8 -*-\n",
    "# 对txt文件进行中文分词\n",
    "import jieba\n",
    "import os\n",
    "from utils import files_processing\n",
    "\n",
    "# 源文件所在目录\n",
    "source_folder = './three_kingdoms/source'\n",
    "segment_folder = './three_kingdoms/segment'\n",
    "\n",
    "# 字词分割，对整个文件内容进行字词分割\n",
    "def segment_lines(file_list,segment_out_dir,stopwords=[]):\n",
    "    for i,file in enumerate(file_list):\n",
    "        segment_out_name=os.path.join(segment_out_dir,'segment_{}.txt'.format(i))\n",
    "        with open(file, 'rb') as f:\n",
    "            document = f.read()\n",
    "            document_cut = jieba.cut(document)\n",
    "            sentence_segment=[]\n",
    "            for word in document_cut:\n",
    "                if word not in stopwords:\n",
    "                    sentence_segment.append(word)\n",
    "            result = ' '.join(sentence_segment)\n",
    "            result = result.encode('utf-8')\n",
    "            with open(segment_out_name, 'wb') as f2:\n",
    "                f2.write(result)\n",
    "\n",
    "# 对source中的txt文件进行分词，输出到segment目录中\n",
    "file_list=files_processing.get_files_list(source_folder, postfix='*.txt')\n",
    "segment_lines(file_list, segment_folder)\n"
   ]
  },
  {
   "cell_type": "code",
   "execution_count": 8,
   "metadata": {},
   "outputs": [
    {
     "name": "stdout",
     "output_type": "stream",
     "text": [
      "0.97538006\n",
      "0.98242795\n",
      "[('献计', 0.9965276718139648), ('臣', 0.9942998886108398), ('丞相', 0.9939789772033691), ('此间', 0.9937529563903809), ('贤侄', 0.9934751987457275), ('大叫', 0.992242693901062), ('卿', 0.9921337962150574), ('大骂', 0.9917443990707397), ('某', 0.9916809797286987), ('孙将军', 0.9911491870880127)]\n",
      "[('众官', 0.9934463500976562), ('已', 0.9923718571662903), ('关公', 0.9920230507850647), ('式', 0.9916894435882568), ('孔明', 0.9916558265686035), ('东吴', 0.9909738898277283), ('孙权', 0.9907709360122681), ('岱', 0.989979088306427), ('后主', 0.989404559135437), ('荆州', 0.9889999032020569)]\n",
      "0.82308596\n",
      "0.7965477\n",
      "[('臣', 0.9896457195281982), ('何为', 0.9891082048416138), ('丞相', 0.9890314340591431), ('神人', 0.9860900044441223), ('吾', 0.9854168891906738), ('何故', 0.9847638607025146), ('异志', 0.9843541383743286), ('何人', 0.983711302280426), ('主公', 0.9820924997329712), ('朕', 0.9815878868103027)]\n",
      "[('不多时', 0.9777175188064575), ('关公', 0.9743508696556091), ('嗟叹', 0.9737750291824341), ('倘若', 0.9736829996109009), ('众将', 0.9735323190689087), ('孙权', 0.9713780283927917), ('冷笑', 0.9709944725036621), ('司马懿', 0.9708923101425171), ('飞', 0.9707121849060059), ('卸甲', 0.9706799983978271)]\n"
     ]
    }
   ],
   "source": [
    "# -*-coding: utf-8 -*-\n",
    "# 先运行 word_seg进行中文分词，然后再进行word_similarity计算\n",
    "# 将Word转换成Vec，然后计算相似度 \n",
    "from gensim.models import word2vec\n",
    "import multiprocessing\n",
    "\n",
    "# 如果目录中有多个文件，可以使用PathLineSentences\n",
    "segment_folder = './three_kingdoms/segment'\n",
    "sentences = word2vec.PathLineSentences(segment_folder)\n",
    "\n",
    "# 设置模型参数，进行训练\n",
    "model = word2vec.Word2Vec(sentences, size=100, window=3, min_count=1)\n",
    "print(model.wv.similarity('曹操', '刘备'))\n",
    "print(model.wv.similarity('曹操', '张飞'))\n",
    "print(model.wv.most_similar(positive=['曹操', '刘备'], negative=['张飞']))\n",
    "print(model.wv.most_similar(positive=['曹操']))\n",
    "# 设置模型参数，进行训练\n",
    "model2 = word2vec.Word2Vec(sentences, size=128, window=5, min_count=5, workers=multiprocessing.cpu_count())\n",
    "# 保存模型\n",
    "model2.save('./models/word2Vec.model')\n",
    "print(model2.wv.similarity('曹操', '刘备'))\n",
    "print(model2.wv.similarity('曹操', '张飞'))\n",
    "print(model2.wv.most_similar(positive=['曹操', '刘备'], negative=['张飞']))\n",
    "print(model2.wv.most_similar(positive=['曹操']))\n"
   ]
  },
  {
   "cell_type": "code",
   "execution_count": null,
   "metadata": {},
   "outputs": [],
   "source": []
  }
 ],
 "metadata": {
  "kernelspec": {
   "display_name": "Python 3",
   "language": "python",
   "name": "python3"
  },
  "language_info": {
   "codemirror_mode": {
    "name": "ipython",
    "version": 3
   },
   "file_extension": ".py",
   "mimetype": "text/x-python",
   "name": "python",
   "nbconvert_exporter": "python",
   "pygments_lexer": "ipython3",
   "version": "3.7.4"
  }
 },
 "nbformat": 4,
 "nbformat_minor": 2
}
