{
  "nbformat": 4,
  "nbformat_minor": 0,
  "metadata": {
    "colab": {
      "name": "Prediction of submission rate_Final",
      "provenance": [],
      "collapsed_sections": []
    },
    "kernelspec": {
      "name": "python3",
      "display_name": "Python 3"
    }
  },
  "cells": [
    {
      "cell_type": "code",
      "metadata": {
        "id": "sun3wTPB_rlH",
        "colab_type": "code",
        "colab": {}
      },
      "source": [
        "#!pip install tpot\n",
        "import pandas as pd\n",
        "import seaborn as sns\n",
        "import matplotlib.pyplot as plt\n",
        "import seaborn as sns\n",
        "import numpy as np\n",
        "import csv\n",
        "\n",
        "from sklearn.model_selection import train_test_split\n",
        "from sklearn import preprocessing\n",
        "from sklearn.metrics import accuracy_score\n",
        "from sklearn.datasets import load_digits\n",
        "from sklearn import svm #SVM\n",
        "from sklearn.linear_model import LogisticRegression #逻辑回归\n",
        "from sklearn.tree import DecisionTreeClassifier #决策树\n",
        "from sklearn.naive_bayes import GaussianNB, MultinomialNB, BernoulliNB #高斯朴素贝叶斯 GaussianNB/MultinomialNB/BernoulliNB\n",
        "from sklearn.neighbors import KNeighborsClassifier #KNN\n",
        "from sklearn.ensemble import  AdaBoostClassifier #AdaBoost\n",
        "from xgboost import XGBClassifier #XGBoost\n",
        "from sklearn.discriminant_analysis import LinearDiscriminantAnalysis\n",
        "from sklearn.model_selection import train_test_split\n",
        "from sklearn import preprocessing\n",
        "from sklearn.svm import SVC\n",
        "from sklearn import metrics\n",
        "from sklearn.metrics import roc_auc_score\n",
        "from sklearn.model_selection import KFold\n",
        "# 使用TPOT自动机器学习工具对MNIST进行分类\n",
        "from tpot import TPOTClassifier\n",
        "from sklearn.ensemble import GradientBoostingRegressor\n",
        "from sklearn.utils import shuffle"
      ],
      "execution_count": 0,
      "outputs": []
    },
    {
      "cell_type": "markdown",
      "metadata": {
        "id": "UZr0DmIe5gdl",
        "colab_type": "text"
      },
      "source": [
        "New features: fact-based guesses"
      ]
    },
    {
      "cell_type": "code",
      "metadata": {
        "id": "CxGMnJyy_8hx",
        "colab_type": "code",
        "colab": {}
      },
      "source": [
        "# original data imported\n",
        "Rate_train = pd.read_csv(\"train.csv\")\n",
        "Rate_test = pd.read_csv(\"test.csv\")\n",
        "Full_data = Rate_train.append(Rate_test)\n",
        "Full_data = Full_data.drop([\"EmployeeNumber\", \"EmployeeCount\", \"Over18\", \"StandardHours\"],axis=1)\n",
        "Full_data = pd.get_dummies(Full_data,dummy_na=True)\n",
        "Full_data = Full_data.drop(['Attrition_No', 'Attrition_nan','BusinessTravel_nan','EducationField_nan','Department_nan','Gender_nan','JobRole_nan','MaritalStatus_nan','OverTime_nan'],axis=1)\n",
        "train_clean = Full_data.iloc[:1175,:]\n",
        "#train_clean.info()\n",
        "test_clean = Full_data.iloc[1175:,:]\n",
        "test_clean = test_clean.drop(['Attrition_Yes'],axis=1)\n",
        "#test_clean.info()"
      ],
      "execution_count": 0,
      "outputs": []
    },
    {
      "cell_type": "code",
      "metadata": {
        "id": "NMBCi7T55QFK",
        "colab_type": "code",
        "outputId": "85f68906-a219-4a54-b9a4-2aa757d6d760",
        "colab": {
          "base_uri": "https://localhost:8080/",
          "height": 438
        }
      },
      "source": [
        "## Full_data expanded -- creating new features:\n",
        "#first, choose the most related features to be the basis\n",
        "A = train_clean.corr()\n",
        "#From A we can see the following features are the most related\n",
        "#'Age','JobInvolvement','JobLevel','MonthlyIncome','StockOptionLevel','TotalWorkingYears','YearsAtCompany','YearsInCurrentRole','YearsWithCurrManage','BusinessTravel_Travel_Frequently','JobRole_Laboratory Technician','JobRole_Sales Representative','MaritalStatus_Single','OverTime_Yes'\n",
        "\n",
        "#find the target vector for correlation check (Notice that only target in train_clean is useful)\n",
        "vec = train_clean['Attrition_Yes'].to_numpy()\n",
        "#print(vec)\n",
        "\n",
        "#Now, choose the most related features in Full_data\n",
        "fe_tc_df = Full_data[['Age','JobInvolvement','JobLevel','MonthlyIncome','StockOptionLevel','TotalWorkingYears','YearsAtCompany','YearsInCurrentRole','YearsWithCurrManager','BusinessTravel_Travel_Frequently','JobRole_Laboratory Technician','JobRole_Sales Representative','MaritalStatus_Single','OverTime_Yes']]\n",
        "fe_tc_np = fe_tc_df.to_numpy()\n",
        "#print(fe_tc_np)\n",
        "\n",
        "#-- this is a matrix_rank check --#\n",
        "tc0 = train_clean.to_numpy()\n",
        "print('The original train data has rank = ',np.linalg.matrix_rank(tc0))\n",
        "\n",
        "#iterating and multiplying with each two cols using numpy\n",
        "fe_tc_np = np.array(fe_tc_np)\n",
        "ftn_copy = fe_tc_np.copy()\n",
        "ftn_copy = ftn_copy.T\n",
        "for col1 in ftn_copy:\n",
        "  for col2 in ftn_copy:\n",
        "    mul = col1 * col2\n",
        "    if np.isnan(mul.any()) == 1:\n",
        "      continue\n",
        "    else:\n",
        "      mul = np.array([mul])\n",
        "      fe_tc_np = np.append(fe_tc_np, mul.T, axis=1)\n",
        "  np.delete(ftn_copy,col1)\n",
        "  np.delete(fe_tc_np,col1)\n",
        "#adding the new features to Full_data\n",
        "ftn = pd.DataFrame(fe_tc_np)\n",
        "Full_new = pd.concat([Full_data,ftn])\n",
        "Full_new.info()#增加了210多个新feature\n",
        "#print(Full_new.isnull().values.any())\n",
        "train_new = Full_new.iloc[:1175,:]\n",
        "test_new = Full_new.iloc[1175:,:]\n",
        "\n",
        "#now, see the corr \n",
        "B = train_new.corr()\n",
        "plt.plot(range(263),B['Attrition_Yes'])#看看新增的features相关与否\n",
        "\n",
        "#-- this is a matrix_rank check --#\n",
        "tc1 = train_new.to_numpy()\n",
        "print('After feature engineering, the rank of train data has rank = ',np.linalg.matrix_rank(tc1))#？？？"
      ],
      "execution_count": 143,
      "outputs": [
        {
          "output_type": "stream",
          "text": [
            "The original train data has rank =  47\n",
            "<class 'pandas.core.frame.DataFrame'>\n",
            "Int64Index: 2940 entries, 0 to 1469\n",
            "Columns: 263 entries, 0 to user_id\n",
            "dtypes: float64(263)\n",
            "memory usage: 5.9 MB\n"
          ],
          "name": "stdout"
        },
        {
          "output_type": "stream",
          "text": [
            "/usr/local/lib/python3.6/dist-packages/numpy/linalg/linalg.py:1872: RuntimeWarning: invalid value encountered in greater\n",
            "  return count_nonzero(S > tol, axis=-1)\n"
          ],
          "name": "stderr"
        },
        {
          "output_type": "stream",
          "text": [
            "After feature engineering, the rank of train data has rank =  0\n"
          ],
          "name": "stdout"
        },
        {
          "output_type": "display_data",
          "data": {
            "image/png": "[encoded data removed]",
            "text/plain": [
              "<Figure size 432x288 with 1 Axes>"
            ]
          },
          "metadata": {
            "tags": [],
            "needs_background": "light"
          }
        }
      ]
    },
    {
      "cell_type": "code",
      "metadata": {
        "id": "DGABxtl35Jqk",
        "colab_type": "code",
        "colab": {}
      },
      "source": [
        "#Next, GDBT\n",
        "#and then try gdbt again\n",
        "Y = train_new['Attrition_Yes']\n",
        "X = train_new.drop(['Attrition_Yes'],axis=1)\n",
        "# split data，25% is used to test，the rest is used to train\n",
        "train_x, test_x, train_y, test_y = train_test_split( X, Y, test_size=0.25, random_state=33 )\n",
        "train_x = train_x.astype( np.float )\n",
        "test_x = test_x.astype( np.float )\n",
        "train_y = train_y.astype( np.float )\n",
        "test_y = test_y.astype( np.float )\n",
        "\n",
        "'''\n",
        "# using Z-Score regularization\n",
        "ss = preprocessing.StandardScaler()\n",
        "train_ss_x = ss.fit_transform( train_x )\n",
        "test_ss_x = ss.transform( test_x )\n",
        "# import test_new\n",
        "test_ss_test = ss.transform( test_new )'''\n",
        "train_ss_x = train_x\n",
        "if np.isnan(train_ss_x.any().any()) == 1:\n",
        "  print('train_x has Nan value')\n",
        "\n",
        "if np.isnan(train_y.any().any()) == 1:\n",
        "  print('train_y has Nan value')\n",
        "test_ss_x = test_x\n",
        "if np.isnan(test_ss_x.any().any()) == 1:\n",
        "  print('test_x has Nan value')\n",
        "test_ss_test = test_new\n",
        "if np.isnan(test_ss_test.any().any()) == 1:\n",
        "  print('test_new has Nan value')\n"
      ],
      "execution_count": 0,
      "outputs": []
    },
    {
      "cell_type": "code",
      "metadata": {
        "id": "DgTEPyYIF-QQ",
        "colab_type": "code",
        "colab": {
          "base_uri": "https://localhost:8080/",
          "height": 395
        },
        "outputId": "44bcf8a8-8a11-4eb5-c7d9-0b3bdc6dfb1f"
      },
      "source": [
        "# creating gdbt classifier -- the best result\n",
        "clf = GradientBoostingRegressor(n_estimators=500, learning_rate=0.01,max_depth=4,min_samples_split=2,loss='ls')\n",
        "clf.fit( train_ss_x, train_y )\n",
        "predict_y_gdbt = clf.predict( test_ss_x )##-- A Comparison Test --##\n",
        "#print( 'SVM accuracy rate: %0.4lf' % accuracy_score( test_y, predict_y ) )\n",
        "scoretemp = roc_auc_score(test_y,predict_y_gdbt)\n",
        "print(scoretemp)\n"
      ],
      "execution_count": 144,
      "outputs": [
        {
          "output_type": "error",
          "ename": "ValueError",
          "evalue": "ignored",
          "traceback": [
            "\u001b[0;31m---------------------------------------------------------------------------\u001b[0m",
            "\u001b[0;31mValueError\u001b[0m                                Traceback (most recent call last)",
            "\u001b[0;32m<ipython-input-144-d56b74503f55>\u001b[0m in \u001b[0;36m<module>\u001b[0;34m()\u001b[0m\n\u001b[1;32m      1\u001b[0m \u001b[0mclf\u001b[0m \u001b[0;34m=\u001b[0m \u001b[0mGradientBoostingRegressor\u001b[0m\u001b[0;34m(\u001b[0m\u001b[0mn_estimators\u001b[0m\u001b[0;34m=\u001b[0m\u001b[0;36m500\u001b[0m\u001b[0;34m,\u001b[0m \u001b[0mlearning_rate\u001b[0m\u001b[0;34m=\u001b[0m\u001b[0;36m0.01\u001b[0m\u001b[0;34m,\u001b[0m\u001b[0mmax_depth\u001b[0m\u001b[0;34m=\u001b[0m\u001b[0;36m4\u001b[0m\u001b[0;34m,\u001b[0m\u001b[0mmin_samples_split\u001b[0m\u001b[0;34m=\u001b[0m\u001b[0;36m2\u001b[0m\u001b[0;34m,\u001b[0m\u001b[0mloss\u001b[0m\u001b[0;34m=\u001b[0m\u001b[0;34m'ls'\u001b[0m\u001b[0;34m)\u001b[0m\u001b[0;34m\u001b[0m\u001b[0;34m\u001b[0m\u001b[0m\n\u001b[0;32m----> 2\u001b[0;31m \u001b[0mclf\u001b[0m\u001b[0;34m.\u001b[0m\u001b[0mfit\u001b[0m\u001b[0;34m(\u001b[0m \u001b[0mtrain_ss_x\u001b[0m\u001b[0;34m,\u001b[0m \u001b[0mtrain_y\u001b[0m \u001b[0;34m)\u001b[0m\u001b[0;34m\u001b[0m\u001b[0;34m\u001b[0m\u001b[0m\n\u001b[0m\u001b[1;32m      3\u001b[0m \u001b[0mpredict_y_gdbt\u001b[0m \u001b[0;34m=\u001b[0m \u001b[0mclf\u001b[0m\u001b[0;34m.\u001b[0m\u001b[0mpredict\u001b[0m\u001b[0;34m(\u001b[0m \u001b[0mtest_ss_x\u001b[0m \u001b[0;34m)\u001b[0m\u001b[0;31m##-- A Comparison Test --##\u001b[0m\u001b[0;34m\u001b[0m\u001b[0;34m\u001b[0m\u001b[0m\n\u001b[1;32m      4\u001b[0m \u001b[0;31m#print( 'SVM accuracy rate: %0.4lf' % accuracy_score( test_y, predict_y ) )\u001b[0m\u001b[0;34m\u001b[0m\u001b[0;34m\u001b[0m\u001b[0;34m\u001b[0m\u001b[0m\n\u001b[1;32m      5\u001b[0m \u001b[0mscoretemp\u001b[0m \u001b[0;34m=\u001b[0m \u001b[0mroc_auc_score\u001b[0m\u001b[0;34m(\u001b[0m\u001b[0mtest_y\u001b[0m\u001b[0;34m,\u001b[0m\u001b[0mpredict_y_gdbt\u001b[0m\u001b[0;34m)\u001b[0m\u001b[0;34m\u001b[0m\u001b[0;34m\u001b[0m\u001b[0m\n",
            "\u001b[0;32m/usr/local/lib/python3.6/dist-packages/sklearn/ensemble/_gb.py\u001b[0m in \u001b[0;36mfit\u001b[0;34m(self, X, y, sample_weight, monitor)\u001b[0m\n\u001b[1;32m   1439\u001b[0m         \u001b[0;31m# Since check_array converts both X and y to the same dtype, but the\u001b[0m\u001b[0;34m\u001b[0m\u001b[0;34m\u001b[0m\u001b[0;34m\u001b[0m\u001b[0m\n\u001b[1;32m   1440\u001b[0m         \u001b[0;31m# trees use different types for X and y, checking them separately.\u001b[0m\u001b[0;34m\u001b[0m\u001b[0;34m\u001b[0m\u001b[0;34m\u001b[0m\u001b[0m\n\u001b[0;32m-> 1441\u001b[0;31m         \u001b[0mX\u001b[0m \u001b[0;34m=\u001b[0m \u001b[0mcheck_array\u001b[0m\u001b[0;34m(\u001b[0m\u001b[0mX\u001b[0m\u001b[0;34m,\u001b[0m \u001b[0maccept_sparse\u001b[0m\u001b[0;34m=\u001b[0m\u001b[0;34m[\u001b[0m\u001b[0;34m'csr'\u001b[0m\u001b[0;34m,\u001b[0m \u001b[0;34m'csc'\u001b[0m\u001b[0;34m,\u001b[0m \u001b[0;34m'coo'\u001b[0m\u001b[0;34m]\u001b[0m\u001b[0;34m,\u001b[0m \u001b[0mdtype\u001b[0m\u001b[0;34m=\u001b[0m\u001b[0mDTYPE\u001b[0m\u001b[0;34m)\u001b[0m\u001b[0;34m\u001b[0m\u001b[0;34m\u001b[0m\u001b[0m\n\u001b[0m\u001b[1;32m   1442\u001b[0m         \u001b[0mn_samples\u001b[0m\u001b[0;34m,\u001b[0m \u001b[0mself\u001b[0m\u001b[0;34m.\u001b[0m\u001b[0mn_features_\u001b[0m \u001b[0;34m=\u001b[0m \u001b[0mX\u001b[0m\u001b[0;34m.\u001b[0m\u001b[0mshape\u001b[0m\u001b[0;34m\u001b[0m\u001b[0;34m\u001b[0m\u001b[0m\n\u001b[1;32m   1443\u001b[0m \u001b[0;34m\u001b[0m\u001b[0m\n",
            "\u001b[0;32m/usr/local/lib/python3.6/dist-packages/sklearn/utils/validation.py\u001b[0m in \u001b[0;36mcheck_array\u001b[0;34m(array, accept_sparse, accept_large_sparse, dtype, order, copy, force_all_finite, ensure_2d, allow_nd, ensure_min_samples, ensure_min_features, warn_on_dtype, estimator)\u001b[0m\n\u001b[1;32m    576\u001b[0m         \u001b[0;32mif\u001b[0m \u001b[0mforce_all_finite\u001b[0m\u001b[0;34m:\u001b[0m\u001b[0;34m\u001b[0m\u001b[0;34m\u001b[0m\u001b[0m\n\u001b[1;32m    577\u001b[0m             _assert_all_finite(array,\n\u001b[0;32m--> 578\u001b[0;31m                                allow_nan=force_all_finite == 'allow-nan')\n\u001b[0m\u001b[1;32m    579\u001b[0m \u001b[0;34m\u001b[0m\u001b[0m\n\u001b[1;32m    580\u001b[0m     \u001b[0;32mif\u001b[0m \u001b[0mensure_min_samples\u001b[0m \u001b[0;34m>\u001b[0m \u001b[0;36m0\u001b[0m\u001b[0;34m:\u001b[0m\u001b[0;34m\u001b[0m\u001b[0;34m\u001b[0m\u001b[0m\n",
            "\u001b[0;32m/usr/local/lib/python3.6/dist-packages/sklearn/utils/validation.py\u001b[0m in \u001b[0;36m_assert_all_finite\u001b[0;34m(X, allow_nan, msg_dtype)\u001b[0m\n\u001b[1;32m     58\u001b[0m                     \u001b[0mmsg_err\u001b[0m\u001b[0;34m.\u001b[0m\u001b[0mformat\u001b[0m\u001b[0;34m\u001b[0m\u001b[0;34m\u001b[0m\u001b[0m\n\u001b[1;32m     59\u001b[0m                     (type_err,\n\u001b[0;32m---> 60\u001b[0;31m                      msg_dtype if msg_dtype is not None else X.dtype)\n\u001b[0m\u001b[1;32m     61\u001b[0m             )\n\u001b[1;32m     62\u001b[0m     \u001b[0;31m# for object dtype data, we only check for NaNs (GH-13254)\u001b[0m\u001b[0;34m\u001b[0m\u001b[0;34m\u001b[0m\u001b[0;34m\u001b[0m\u001b[0m\n",
            "\u001b[0;31mValueError\u001b[0m: Input contains NaN, infinity or a value too large for dtype('float32')."
          ]
        }
      ]
    },
    {
      "cell_type": "code",
      "metadata": {
        "id": "ZgV6Ka76TNzz",
        "colab_type": "code",
        "colab": {}
      },
      "source": [
        "#apply the model on the test_new data\n",
        "predict_test = clf.predict( test_ss_test )# 0 and 1\n",
        "pre_test = []\n",
        "for i in abs(predict_test):\n",
        "  if i >= 3e-1:\n",
        "    i = 1\n",
        "  else:\n",
        "    i = 0\n",
        "  pre_test.append(i)\n",
        "print(pre_test)"
      ],
      "execution_count": 0,
      "outputs": []
    },
    {
      "cell_type": "code",
      "metadata": {
        "id": "s1uxKOJbBVEv",
        "colab_type": "code",
        "colab": {}
      },
      "source": [
        "#Something is wrong, please do not run#\n",
        "#有问题，请勿运行#\n",
        "#iterate multiply with the cols using pandas\n",
        "for (columnName1, columnData1) in temp.iteritems():\n",
        "  a_vec = columnData1\n",
        "  for (columnName2, columnData2) in temp.iteritems():\n",
        "    b_vec = columnData2\n",
        "    mul_vec = pd.DataFrame(a_vec * b_vec)\n",
        "    #print(mul_vec)\n",
        "    NameNew = columnName1 + columnName2\n",
        "    cor_mul = abs(mul_vec.corrwith(vec,axis=0))\n",
        "    cor_a = abs(np.corrcoef(a_vec, vec))\n",
        "    cor_b = abs(np.corrcoef(b_vec, vec))\n",
        "    #if  cor_mul >= max(cor_a,cor_b):    \n",
        "    temp[NameNew] = temp.add(mul_vec)\n",
        "  temp = temp.drop(columnName1,axis=1)"
      ],
      "execution_count": 0,
      "outputs": []
    },
    {
      "cell_type": "code",
      "metadata": {
        "id": "V0b2GTqKM5xx",
        "colab_type": "code",
        "colab": {}
      },
      "source": [
        "A_new = train_clean.corr()\n",
        "vec_new = pd.DataFrame(A['Attrition_Yes'])"
      ],
      "execution_count": 0,
      "outputs": []
    },
    {
      "cell_type": "code",
      "metadata": {
        "id": "gRlldyx2GhD2",
        "colab_type": "code",
        "outputId": "eacc7cce-13b9-4717-8185-971ecea94c67",
        "colab": {
          "base_uri": "https://localhost:8080/",
          "height": 51
        }
      },
      "source": [
        "a = pd.DataFrame([1,2,3])\n",
        "b = pd.DataFrame([4,5,6])\n",
        "c = a * b\n",
        "c.corrwith(a,axis=0)"
      ],
      "execution_count": 0,
      "outputs": [
        {
          "output_type": "execute_result",
          "data": {
            "text/plain": [
              "0    0.996616\n",
              "dtype: float64"
            ]
          },
          "metadata": {
            "tags": []
          },
          "execution_count": 33
        }
      ]
    },
    {
      "cell_type": "markdown",
      "metadata": {
        "id": "_mGdXytNVKOW",
        "colab_type": "text"
      },
      "source": [
        "FM FFM"
      ]
    },
    {
      "cell_type": "code",
      "metadata": {
        "id": "9fKweLdng4JZ",
        "colab_type": "code",
        "outputId": "5fecb10e-60ed-4af8-c7ed-91430d294652",
        "colab": {
          "base_uri": "https://localhost:8080/",
          "height": 54
        }
      },
      "source": [
        "!pip install xlearn\n"
      ],
      "execution_count": 0,
      "outputs": [
        {
          "output_type": "stream",
          "text": [
            "Requirement already satisfied: xlearn in /usr/local/lib/python3.6/dist-packages (0.40a1)\n"
          ],
          "name": "stdout"
        }
      ]
    },
    {
      "cell_type": "code",
      "metadata": {
        "id": "Od25t9PkkedI",
        "colab_type": "code",
        "colab": {}
      },
      "source": [
        "train_clean.to_csv(r'train_clean.txt', header=None, index=None, sep=' ', mode='a')\n",
        "test_clean.to_csv(r'test_clean.txt', header=None, index=None, sep=' ', mode='a')"
      ],
      "execution_count": 0,
      "outputs": []
    },
    {
      "cell_type": "code",
      "metadata": {
        "id": "VcZStb5fGz5R",
        "colab_type": "code",
        "colab": {}
      },
      "source": [
        "import xlearn as xl\n",
        "# 创建FFM模型\n",
        "ffm_model = xl.create_ffm()\n",
        "# 设置训练集和测试集\n",
        "ffm_model.setTrain('train_clean.txt')\n",
        "ffm_model.setValidate('teat_clean.txt')\n",
        "# 设置参数，任务为二分类，学习率0.2，正则项lambda: 0.002，评估指标 accuracy\n",
        "param = {'task':'binary', 'lr':0.2, 'lambda':0.002, 'metric':'acc'}\n",
        "?? ffm_model.fit"
      ],
      "execution_count": 0,
      "outputs": []
    },
    {
      "cell_type": "code",
      "metadata": {
        "id": "q_8KFSjmiARz",
        "colab_type": "code",
        "colab": {}
      },
      "source": [
        "# FFM训练，并输出模型\n",
        "ffm_model.fit(param, \"./model.out\")"
      ],
      "execution_count": 0,
      "outputs": []
    },
    {
      "cell_type": "code",
      "metadata": {
        "id": "YDMFp52WlUtj",
        "colab_type": "code",
        "colab": {}
      },
      "source": [
        "# 设置测试集，将输出结果转换为0-1\n",
        "ffm_model.setTest(\"test.txt\")\n",
        "ffm_model.setSigmoid()\n",
        "ffm_model.predict(\"model.out\", \"output.txt\")"
      ],
      "execution_count": 0,
      "outputs": []
    },
    {
      "cell_type": "markdown",
      "metadata": {
        "id": "AqbEIOkIBasp",
        "colab_type": "text"
      },
      "source": [
        "Deep learning"
      ]
    },
    {
      "cell_type": "markdown",
      "metadata": {
        "id": "FWzOu6p6Bct6",
        "colab_type": "text"
      },
      "source": [
        ""
      ]
    }
  ]
}